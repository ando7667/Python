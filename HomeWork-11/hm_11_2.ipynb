{
 "cells": [
  {
   "cell_type": "code",
   "execution_count": 2,
   "id": "7f018a85",
   "metadata": {},
   "outputs": [
    {
     "data": {
      "text/latex": [
       "$\\displaystyle 2 x^{3} + 2 x^{2} + 18 x - 18$"
      ],
      "text/plain": [
       "2*x**3 + 2*x**2 + 18*x - 18"
      ]
     },
     "execution_count": 2,
     "metadata": {},
     "output_type": "execute_result"
    }
   ],
   "source": [
    "from sympy import *\n",
    "from sympy.plotting import plot\n",
    "x = Symbol(\"x\")\n",
    "f = 2 * x ** 3 + 2 * x ** 2 + 18 * x - 18\n",
    "f"
   ]
  },
  {
   "cell_type": "code",
   "execution_count": 3,
   "id": "4184d2f5",
   "metadata": {},
   "outputs": [
    {
     "data": {
      "image/png": "[encoded data removed]",
      "text/plain": [
       "<Figure size 640x480 with 1 Axes>"
      ]
     },
     "metadata": {},
     "output_type": "display_data"
    },
    {
     "data": {
      "text/plain": [
       "<sympy.plotting.plot.Plot at 0x18fd9856220>"
      ]
     },
     "execution_count": 3,
     "metadata": {},
     "output_type": "execute_result"
    }
   ],
   "source": [
    "plot(f,(x,-5,5))"
   ]
  },
  {
   "cell_type": "code",
   "execution_count": 4,
   "id": "7c33b37b",
   "metadata": {},
   "outputs": [
    {
     "data": {
      "text/latex": [
       "$\\displaystyle \\left\\{- \\frac{26}{9 \\sqrt[3]{\\frac{161}{27} + \\frac{\\sqrt{537}}{3}}} - \\frac{1}{3} + \\sqrt[3]{\\frac{161}{27} + \\frac{\\sqrt{537}}{3}}, - \\frac{\\sqrt[3]{\\frac{161}{27} + \\frac{\\sqrt{537}}{3}}}{2} - \\frac{1}{3} + \\frac{13}{9 \\sqrt[3]{\\frac{161}{27} + \\frac{\\sqrt{537}}{3}}} + i \\left(\\frac{13 \\sqrt{3}}{9 \\sqrt[3]{\\frac{161}{27} + \\frac{\\sqrt{537}}{3}}} + \\frac{\\sqrt{3} \\sqrt[3]{\\frac{161}{27} + \\frac{\\sqrt{537}}{3}}}{2}\\right), - \\frac{\\sqrt[3]{\\frac{161}{27} + \\frac{\\sqrt{537}}{3}}}{2} - \\frac{1}{3} + \\frac{13}{9 \\sqrt[3]{\\frac{161}{27} + \\frac{\\sqrt{537}}{3}}} + i \\left(- \\frac{\\sqrt{3} \\sqrt[3]{\\frac{161}{27} + \\frac{\\sqrt{537}}{3}}}{2} - \\frac{13 \\sqrt{3}}{9 \\sqrt[3]{\\frac{161}{27} + \\frac{\\sqrt{537}}{3}}}\\right)\\right\\}$"
      ],
      "text/plain": [
       "{-26/(9*(161/27 + sqrt(537)/3)**(1/3)) - 1/3 + (161/27 + sqrt(537)/3)**(1/3), -(161/27 + sqrt(537)/3)**(1/3)/2 - 1/3 + 13/(9*(161/27 + sqrt(537)/3)**(1/3)) + I*(13*sqrt(3)/(9*(161/27 + sqrt(537)/3)**(1/3)) + sqrt(3)*(161/27 + sqrt(537)/3)**(1/3)/2), -(161/27 + sqrt(537)/3)**(1/3)/2 - 1/3 + 13/(9*(161/27 + sqrt(537)/3)**(1/3)) + I*(-sqrt(3)*(161/27 + sqrt(537)/3)**(1/3)/2 - 13*sqrt(3)/(9*(161/27 + sqrt(537)/3)**(1/3)))}"
      ]
     },
     "execution_count": 4,
     "metadata": {},
     "output_type": "execute_result"
    }
   ],
   "source": [
    "solveset(f)"
   ]
  },
  {
   "cell_type": "code",
   "execution_count": 5,
   "id": "93122ce3",
   "metadata": {
    "scrolled": true
   },
   "outputs": [
    {
     "data": {
      "text/latex": [
       "$\\displaystyle \\left\\{x\\; \\middle|\\; x \\in \\mathbb{C} \\wedge 2 x^{3} + 2 x^{2} + 18 x - 18 < 0 \\right\\}$"
      ],
      "text/plain": [
       "ConditionSet(x, 2*x**3 + 2*x**2 + 18*x - 18 < 0, Complexes)"
      ]
     },
     "execution_count": 5,
     "metadata": {},
     "output_type": "execute_result"
    }
   ],
   "source": [
    "solveset(f<0)"
   ]
  },
  {
   "cell_type": "code",
   "execution_count": 6,
   "id": "7b169bf8",
   "metadata": {},
   "outputs": [
    {
     "data": {
      "text/latex": [
       "$\\displaystyle \\left\\{x\\; \\middle|\\; x \\in \\mathbb{C} \\wedge 2 x^{3} + 2 x^{2} + 18 x - 18 > 0 \\right\\}$"
      ],
      "text/plain": [
       "ConditionSet(x, 2*x**3 + 2*x**2 + 18*x - 18 > 0, Complexes)"
      ]
     },
     "execution_count": 6,
     "metadata": {},
     "output_type": "execute_result"
    }
   ],
   "source": [
    "solveset(f>0)"
   ]
  },
  {
   "cell_type": "code",
   "execution_count": 7,
   "id": "8d93c6ad",
   "metadata": {
    "scrolled": true
   },
   "outputs": [
    {
     "data": {
      "text/plain": [
       "[-oo, -1/3 - sqrt(26)*I/3, -1/3 + sqrt(26)*I/3, oo]"
      ]
     },
     "execution_count": 7,
     "metadata": {},
     "output_type": "execute_result"
    }
   ],
   "source": [
    "result=[-oo, oo]\n",
    "result[1:1] = solve(diff(f),x)\n",
    "result"
   ]
  },
  {
   "cell_type": "code",
   "execution_count": 8,
   "id": "fe87f7a7",
   "metadata": {
    "scrolled": true
   },
   "outputs": [
    {
     "ename": "ValueError",
     "evalue": "Non-real intervals are not supported",
     "output_type": "error",
     "traceback": [
      "\u001b[1;31m---------------------------------------------------------------------------\u001b[0m",
      "\u001b[1;31mValueError\u001b[0m                                Traceback (most recent call last)",
      "\u001b[1;32m~\\AppData\\Local\\Temp\\ipykernel_18380\\3958430460.py\u001b[0m in \u001b[0;36m<module>\u001b[1;34m\u001b[0m\n\u001b[0;32m      2\u001b[0m \u001b[0mres_dec\u001b[0m \u001b[1;33m=\u001b[0m \u001b[1;33m[\u001b[0m\u001b[1;33m]\u001b[0m\u001b[1;33m\u001b[0m\u001b[1;33m\u001b[0m\u001b[0m\n\u001b[0;32m      3\u001b[0m \u001b[1;32mfor\u001b[0m \u001b[0mi\u001b[0m \u001b[1;32min\u001b[0m \u001b[0mrange\u001b[0m\u001b[1;33m(\u001b[0m\u001b[1;36m1\u001b[0m\u001b[1;33m,\u001b[0m \u001b[0mlen\u001b[0m\u001b[1;33m(\u001b[0m\u001b[0mresult\u001b[0m\u001b[1;33m)\u001b[0m\u001b[1;33m)\u001b[0m\u001b[1;33m:\u001b[0m\u001b[1;33m\u001b[0m\u001b[1;33m\u001b[0m\u001b[0m\n\u001b[1;32m----> 4\u001b[1;33m     \u001b[1;32mif\u001b[0m \u001b[0mis_increasing\u001b[0m\u001b[1;33m(\u001b[0m\u001b[0mf\u001b[0m\u001b[1;33m,\u001b[0m \u001b[0mInterval\u001b[0m\u001b[1;33m.\u001b[0m\u001b[0mopen\u001b[0m\u001b[1;33m(\u001b[0m\u001b[0mresult\u001b[0m\u001b[1;33m[\u001b[0m\u001b[0mi\u001b[0m\u001b[1;33m-\u001b[0m\u001b[1;36m1\u001b[0m\u001b[1;33m]\u001b[0m\u001b[1;33m,\u001b[0m\u001b[0mresult\u001b[0m\u001b[1;33m[\u001b[0m\u001b[0mi\u001b[0m\u001b[1;33m]\u001b[0m\u001b[1;33m)\u001b[0m\u001b[1;33m)\u001b[0m\u001b[1;33m:\u001b[0m\u001b[1;33m\u001b[0m\u001b[1;33m\u001b[0m\u001b[0m\n\u001b[0m\u001b[0;32m      5\u001b[0m         \u001b[0mres_inc\u001b[0m\u001b[1;33m.\u001b[0m\u001b[0mappend\u001b[0m\u001b[1;33m(\u001b[0m\u001b[1;34mf\"{result[i-1]}, {result[i]}\"\u001b[0m\u001b[1;33m)\u001b[0m\u001b[1;33m\u001b[0m\u001b[1;33m\u001b[0m\u001b[0m\n\u001b[0;32m      6\u001b[0m     \u001b[1;32melse\u001b[0m\u001b[1;33m:\u001b[0m\u001b[1;33m\u001b[0m\u001b[1;33m\u001b[0m\u001b[0m\n",
      "\u001b[1;32mC:\\ProgramData\\Anaconda3\\lib\\site-packages\\sympy\\sets\\sets.py\u001b[0m in \u001b[0;36mopen\u001b[1;34m(cls, a, b)\u001b[0m\n\u001b[0;32m   1037\u001b[0m     \u001b[1;32mdef\u001b[0m \u001b[0mopen\u001b[0m\u001b[1;33m(\u001b[0m\u001b[0mcls\u001b[0m\u001b[1;33m,\u001b[0m \u001b[0ma\u001b[0m\u001b[1;33m,\u001b[0m \u001b[0mb\u001b[0m\u001b[1;33m)\u001b[0m\u001b[1;33m:\u001b[0m\u001b[1;33m\u001b[0m\u001b[1;33m\u001b[0m\u001b[0m\n\u001b[0;32m   1038\u001b[0m         \u001b[1;34m\"\"\"Return an interval including neither boundary.\"\"\"\u001b[0m\u001b[1;33m\u001b[0m\u001b[1;33m\u001b[0m\u001b[0m\n\u001b[1;32m-> 1039\u001b[1;33m         \u001b[1;32mreturn\u001b[0m \u001b[0mcls\u001b[0m\u001b[1;33m(\u001b[0m\u001b[0ma\u001b[0m\u001b[1;33m,\u001b[0m \u001b[0mb\u001b[0m\u001b[1;33m,\u001b[0m \u001b[1;32mTrue\u001b[0m\u001b[1;33m,\u001b[0m \u001b[1;32mTrue\u001b[0m\u001b[1;33m)\u001b[0m\u001b[1;33m\u001b[0m\u001b[1;33m\u001b[0m\u001b[0m\n\u001b[0m\u001b[0;32m   1040\u001b[0m \u001b[1;33m\u001b[0m\u001b[0m\n\u001b[0;32m   1041\u001b[0m     \u001b[1;33m@\u001b[0m\u001b[0mclassmethod\u001b[0m\u001b[1;33m\u001b[0m\u001b[1;33m\u001b[0m\u001b[0m\n",
      "\u001b[1;32mC:\\ProgramData\\Anaconda3\\lib\\site-packages\\sympy\\sets\\sets.py\u001b[0m in \u001b[0;36m__new__\u001b[1;34m(cls, start, end, left_open, right_open)\u001b[0m\n\u001b[0;32m    941\u001b[0m         \u001b[1;31m# Only allow real intervals\u001b[0m\u001b[1;33m\u001b[0m\u001b[1;33m\u001b[0m\u001b[0m\n\u001b[0;32m    942\u001b[0m         \u001b[1;32mif\u001b[0m \u001b[0mfuzzy_not\u001b[0m\u001b[1;33m(\u001b[0m\u001b[0mfuzzy_and\u001b[0m\u001b[1;33m(\u001b[0m\u001b[0mi\u001b[0m\u001b[1;33m.\u001b[0m\u001b[0mis_extended_real\u001b[0m \u001b[1;32mfor\u001b[0m \u001b[0mi\u001b[0m \u001b[1;32min\u001b[0m \u001b[1;33m(\u001b[0m\u001b[0mstart\u001b[0m\u001b[1;33m,\u001b[0m \u001b[0mend\u001b[0m\u001b[1;33m,\u001b[0m \u001b[0mend\u001b[0m\u001b[1;33m-\u001b[0m\u001b[0mstart\u001b[0m\u001b[1;33m)\u001b[0m\u001b[1;33m)\u001b[0m\u001b[1;33m)\u001b[0m\u001b[1;33m:\u001b[0m\u001b[1;33m\u001b[0m\u001b[1;33m\u001b[0m\u001b[0m\n\u001b[1;32m--> 943\u001b[1;33m             \u001b[1;32mraise\u001b[0m \u001b[0mValueError\u001b[0m\u001b[1;33m(\u001b[0m\u001b[1;34m\"Non-real intervals are not supported\"\u001b[0m\u001b[1;33m)\u001b[0m\u001b[1;33m\u001b[0m\u001b[1;33m\u001b[0m\u001b[0m\n\u001b[0m\u001b[0;32m    944\u001b[0m \u001b[1;33m\u001b[0m\u001b[0m\n\u001b[0;32m    945\u001b[0m         \u001b[1;31m# evaluate if possible\u001b[0m\u001b[1;33m\u001b[0m\u001b[1;33m\u001b[0m\u001b[0m\n",
      "\u001b[1;31mValueError\u001b[0m: Non-real intervals are not supported"
     ]
    }
   ],
   "source": [
    "res_inc = []\n",
    "res_dec = []\n",
    "for i in range(1, len(result)):\n",
    "    if is_increasing(f, Interval.open(result[i-1],result[i])):\n",
    "        res_inc.append(f\"{result[i-1]}, {result[i]}\")\n",
    "    else:\n",
    "        res_dec.append(f\"{result[i-1]}, {result[i]}\")\n",
    "print(f\"убывает {res_dec}\")\n",
    "print(f\"возрастает {res_inc}\")"
   ]
  },
  {
   "cell_type": "code",
   "execution_count": null,
   "id": "81500fb3",
   "metadata": {},
   "outputs": [],
   "source": []
  }
 ],
 "metadata": {
  "kernelspec": {
   "display_name": "Python 3 (ipykernel)",
   "language": "python",
   "name": "python3"
  },
  "language_info": {
   "codemirror_mode": {
    "name": "ipython",
    "version": 3
   },
   "file_extension": ".py",
   "mimetype": "text/x-python",
   "name": "python",
   "nbconvert_exporter": "python",
   "pygments_lexer": "ipython3",
   "version": "3.9.13"
  }
 },
 "nbformat": 4,
 "nbformat_minor": 5
}
